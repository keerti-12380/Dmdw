{
 "cells": [
  {
   "cell_type": "markdown",
   "metadata": {
    "colab_type": "text",
    "id": "view-in-github"
   },
   "source": [
    "<a href=\"https://colab.research.google.com/github/Deepak262/18CSE172/blob/main/DMDW_Lab_Assignment_01.ipynb\" target=\"_parent\"><img src=\"https://colab.research.google.com/assets/colab-badge.svg\" alt=\"Open In Colab\"/></a>"
   ]
  },
  {
   "cell_type": "markdown",
   "metadata": {
    "id": "LvsgrGnD7_ug"
   },
   "source": [
    "**Mean without using library**"
   ]
  },
  {
   "cell_type": "code",
   "execution_count": null,
   "metadata": {
    "colab": {
     "base_uri": "https://localhost:8080/"
    },
    "id": "ohLZBeJT7ZW_",
    "outputId": "ed1035c1-8a88-4823-b8ee-e195049d4629"
   },
   "outputs": [
    {
     "name": "stdout",
     "output_type": "stream",
     "text": [
      "Mean: 3.0\n"
     ]
    }
   ],
   "source": [
    "n_num = [1,2,3,4,5]\n",
    "n = len(n_num)\n",
    "get_sum = sum(n_num)\n",
    "mean = get_sum / n\n",
    "print(\"Mean: \"+str(mean))"
   ]
  },
  {
   "cell_type": "markdown",
   "metadata": {
    "id": "3_v7eRz48LLE"
   },
   "source": [
    "Median without using library "
   ]
  },
  {
   "cell_type": "code",
   "execution_count": null,
   "metadata": {
    "colab": {
     "base_uri": "https://localhost:8080/"
    },
    "id": "UnpJbQ7Q7456",
    "outputId": "c13e35b0-1d1f-4345-d80c-6a495df16647"
   },
   "outputs": [
    {
     "name": "stdout",
     "output_type": "stream",
     "text": [
      "Median: 3\n"
     ]
    }
   ],
   "source": [
    "n_num = [1,2,3,4,5]\n",
    "n = len(n_num)\n",
    "n_num.sort()\n",
    "if n % 2 == 0:\n",
    "  median1 = n_num[n/2]\n",
    "  median2 = n_num[n//2 - 1]\n",
    "  median = (median1 + median2)/2\n",
    "else:\n",
    "  median = n_num[n//2]\n",
    "print(\"Median: \"+str(median))"
   ]
  },
  {
   "cell_type": "markdown",
   "metadata": {
    "id": "rCo5lcWR9QHf"
   },
   "source": [
    "**Mode without using library**"
   ]
  },
  {
   "cell_type": "code",
   "execution_count": null,
   "metadata": {
    "colab": {
     "base_uri": "https://localhost:8080/"
    },
    "id": "vgNj8ko19OKL",
    "outputId": "93a6fb4a-99ac-488a-9381-39db25b56799"
   },
   "outputs": [
    {
     "name": "stdout",
     "output_type": "stream",
     "text": [
      "Mode: 5\n"
     ]
    }
   ],
   "source": [
    "from collections import Counter\n",
    "n_num = [1,2,3,4,5,5]\n",
    "n = len(n_num)\n",
    "data = Counter(n_num)\n",
    "get_mode = dict(data)\n",
    "mode = [k for k, v in get_mode.items() if v == max(list(data.values()))]\n",
    "if len(mode) == n:\n",
    "  get_mode = \"No mode found\"\n",
    "else:\n",
    "  get_mode = \"Mode: \"+','.join(map(str,mode))\n",
    "print(get_mode)"
   ]
  },
  {
   "cell_type": "markdown",
   "metadata": {
    "id": "y3rKmNwi--m-"
   },
   "source": [
    "**Mean, Median And Mode using library**"
   ]
  },
  {
   "cell_type": "code",
   "execution_count": null,
   "metadata": {
    "colab": {
     "base_uri": "https://localhost:8080/"
    },
    "id": "emU630oL-c6W",
    "outputId": "a3a46769-3c3b-4acb-fc64-4bd6cc4fb402"
   },
   "outputs": [
    {
     "name": "stdout",
     "output_type": "stream",
     "text": [
      "Mean: 4.038461538461538\n",
      "Median: 3.0\n",
      "Mode: 2\n",
      "Standard Deviation: 2.344892473027105\n",
      "Varience: 5.4985207100591715\n"
     ]
    }
   ],
   "source": [
    "import numpy\n",
    "import statistics as stats\n",
    "n_num = [1,2,3,4,8,9,6,7,9,5,6,6,2,5,2,5,5,3,3,2,2,2,2,2,2,2]\n",
    "mean = numpy.mean(n_num)\n",
    "print(\"Mean: \"+str(mean))\n",
    "median = numpy.median(n_num)\n",
    "print(\"Median: \"+str(median))\n",
    "mode = stats.mode(n_num)\n",
    "print(\"Mode: \"+str(mode))\n",
    "print(\"Standard Deviation: \"+str(numpy.std(n_num)))\n",
    "print(\"Varience: \"+str(numpy.var(n_num)))"
   ]
  },
  {
   "cell_type": "code",
   "execution_count": null,
   "metadata": {
    "id": "4ZRQxSCG-7YC"
   },
   "outputs": [],
   "source": []
  }
 ],
 "metadata": {
  "colab": {
   "authorship_tag": "ABX9TyPM8a8e8m0YaJ9kV+emzICU",
   "collapsed_sections": [],
   "include_colab_link": true,
   "name": "DMDW_Lab_Assignment_01.ipynb",
   "provenance": []
  },
  "kernelspec": {
   "display_name": "Python 3",
   "language": "python",
   "name": "python3"
  },
  "language_info": {
   "codemirror_mode": {
    "name": "ipython",
    "version": 3
   },
   "file_extension": ".py",
   "mimetype": "text/x-python",
   "name": "python",
   "nbconvert_exporter": "python",
   "pygments_lexer": "ipython3",
   "version": "3.8.3"
  }
 },
 "nbformat": 4,
 "nbformat_minor": 1
}
